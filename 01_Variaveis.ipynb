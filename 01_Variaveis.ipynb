{
  "nbformat": 4,
  "nbformat_minor": 0,
  "metadata": {
    "colab": {
      "name": "01_Variaveis.ipynb",
      "provenance": [],
      "collapsed_sections": [],
      "toc_visible": true,
      "authorship_tag": "ABX9TyNsZmIu2GcQeBMv0eysX+iH",
      "include_colab_link": true
    },
    "kernelspec": {
      "name": "python3",
      "display_name": "Python 3"
    },
    "language_info": {
      "name": "python"
    }
  },
  "cells": [
    {
      "cell_type": "markdown",
      "metadata": {
        "id": "view-in-github",
        "colab_type": "text"
      },
      "source": [
        "<a href=\"https://colab.research.google.com/github/emanuellyleoncio/Python/blob/main/01_Variaveis.ipynb\" target=\"_parent\"><img src=\"https://colab.research.google.com/assets/colab-badge.svg\" alt=\"Open In Colab\"/></a>"
      ]
    },
    {
      "cell_type": "markdown",
      "metadata": {
        "id": "VLrkxm4d4seC"
      },
      "source": [
        "**Variáveis**"
      ]
    },
    {
      "cell_type": "code",
      "metadata": {
        "colab": {
          "base_uri": "https://localhost:8080/"
        },
        "id": "SGFyEMbM3wZj",
        "outputId": "b6e7f995-bc58-4ff0-d92a-624dd5610ed3"
      },
      "source": [
        "# Atribuição aumentada\n",
        "a = 20\n",
        "a += 10\n",
        "print(a)"
      ],
      "execution_count": 21,
      "outputs": [
        {
          "output_type": "stream",
          "name": "stdout",
          "text": [
            "30\n"
          ]
        }
      ]
    },
    {
      "cell_type": "code",
      "metadata": {
        "colab": {
          "base_uri": "https://localhost:8080/"
        },
        "id": "wJ7jbNTO53WC",
        "outputId": "b9b90f60-9fc8-4979-d789-5e395b1eb0a0"
      },
      "source": [
        "#removendo variável com comando del\n",
        "b = 25\n",
        "b"
      ],
      "execution_count": 54,
      "outputs": [
        {
          "output_type": "execute_result",
          "data": {
            "text/plain": [
              "25"
            ]
          },
          "metadata": {},
          "execution_count": 54
        }
      ]
    },
    {
      "cell_type": "code",
      "metadata": {
        "id": "gsH-ZPny72km"
      },
      "source": [
        "del b"
      ],
      "execution_count": 55,
      "outputs": []
    },
    {
      "cell_type": "code",
      "metadata": {
        "colab": {
          "base_uri": "https://localhost:8080/"
        },
        "id": "6ib-OQBG7_yo",
        "outputId": "3f5c8095-1a81-45fa-9eff-2a20fe157ce6"
      },
      "source": [
        "#Booleanos\n",
        "5 < 6"
      ],
      "execution_count": 26,
      "outputs": [
        {
          "output_type": "execute_result",
          "data": {
            "text/plain": [
              "True"
            ]
          },
          "metadata": {},
          "execution_count": 26
        }
      ]
    },
    {
      "cell_type": "code",
      "metadata": {
        "colab": {
          "base_uri": "https://localhost:8080/"
        },
        "id": "XtAhDOJS951W",
        "outputId": "547ae80c-91ef-40ea-c1ce-248583f8d1cf"
      },
      "source": [
        "# Definidos como False -> 0 / None / [] (ou qualquer outra sequencia vazia)\n",
        "6 > 7"
      ],
      "execution_count": 27,
      "outputs": [
        {
          "output_type": "execute_result",
          "data": {
            "text/plain": [
              "False"
            ]
          },
          "metadata": {},
          "execution_count": 27
        }
      ]
    },
    {
      "cell_type": "markdown",
      "metadata": {
        "id": "Twpxd2Nq53vb"
      },
      "source": [
        "**Strings**"
      ]
    },
    {
      "cell_type": "code",
      "metadata": {
        "colab": {
          "base_uri": "https://localhost:8080/"
        },
        "id": "bojcL_O3-ZrF",
        "outputId": "5d865c7e-1ee1-4429-cf80-66198ad70e26"
      },
      "source": [
        "#Checagem\n",
        "'amor'.startswith('a')"
      ],
      "execution_count": 29,
      "outputs": [
        {
          "output_type": "execute_result",
          "data": {
            "text/plain": [
              "True"
            ]
          },
          "metadata": {},
          "execution_count": 29
        }
      ]
    },
    {
      "cell_type": "code",
      "metadata": {
        "colab": {
          "base_uri": "https://localhost:8080/"
        },
        "id": "IIUneAwG_Z3f",
        "outputId": "eac5c3e8-4034-45b4-d8fe-f71dffa06a65"
      },
      "source": [
        "#Checagem\n",
        "'amor'.endswith('l')"
      ],
      "execution_count": 30,
      "outputs": [
        {
          "output_type": "execute_result",
          "data": {
            "text/plain": [
              "False"
            ]
          },
          "metadata": {},
          "execution_count": 30
        }
      ]
    },
    {
      "cell_type": "code",
      "metadata": {
        "colab": {
          "base_uri": "https://localhost:8080/"
        },
        "id": "MYiyJh0C_e__",
        "outputId": "6068e3f5-e875-4100-f9d7-4946337f4830"
      },
      "source": [
        "#Checagem\n",
        "'1254'.isdigit()"
      ],
      "execution_count": 31,
      "outputs": [
        {
          "output_type": "execute_result",
          "data": {
            "text/plain": [
              "True"
            ]
          },
          "metadata": {},
          "execution_count": 31
        }
      ]
    },
    {
      "cell_type": "code",
      "metadata": {
        "colab": {
          "base_uri": "https://localhost:8080/"
        },
        "id": "QsBXCNQ5_nyq",
        "outputId": "f3df091b-5efa-40ba-b5e1-7c0a340f3d0b"
      },
      "source": [
        "#Checagem\n",
        "'1254'.isdigit()"
      ],
      "execution_count": 32,
      "outputs": [
        {
          "output_type": "execute_result",
          "data": {
            "text/plain": [
              "True"
            ]
          },
          "metadata": {},
          "execution_count": 32
        }
      ]
    },
    {
      "cell_type": "code",
      "metadata": {
        "id": "Cz16X-Bf_0GN"
      },
      "source": [
        "#outras checagens -> isalnum / isalpha / islower / isupper / isspace"
      ],
      "execution_count": 33,
      "outputs": []
    },
    {
      "cell_type": "code",
      "metadata": {
        "colab": {
          "base_uri": "https://localhost:8080/"
        },
        "id": "AVMFSQYQ_-7y",
        "outputId": "df883b12-ba86-43a8-adc6-c5954f37666d"
      },
      "source": [
        "#Pesquisas\n",
        "'Sol de verão'.count('o')"
      ],
      "execution_count": 34,
      "outputs": [
        {
          "output_type": "execute_result",
          "data": {
            "text/plain": [
              "2"
            ]
          },
          "metadata": {},
          "execution_count": 34
        }
      ]
    },
    {
      "cell_type": "code",
      "metadata": {
        "colab": {
          "base_uri": "https://localhost:8080/"
        },
        "id": "IBK1MCnCANJy",
        "outputId": "175a65f3-b377-438e-e7bd-55b7513e3cd4"
      },
      "source": [
        "#Pesquisas\n",
        "'Sol de verão'.find('l')"
      ],
      "execution_count": 35,
      "outputs": [
        {
          "output_type": "execute_result",
          "data": {
            "text/plain": [
              "2"
            ]
          },
          "metadata": {},
          "execution_count": 35
        }
      ]
    },
    {
      "cell_type": "code",
      "metadata": {
        "colab": {
          "base_uri": "https://localhost:8080/",
          "height": 35
        },
        "id": "dbfY7fscAdvt",
        "outputId": "09f661b4-677b-4b24-9411-cbb692b6d711"
      },
      "source": [
        "'hello world'.title()"
      ],
      "execution_count": 36,
      "outputs": [
        {
          "output_type": "execute_result",
          "data": {
            "application/vnd.google.colaboratory.intrinsic+json": {
              "type": "string"
            },
            "text/plain": [
              "'Hello World'"
            ]
          },
          "metadata": {},
          "execution_count": 36
        }
      ]
    },
    {
      "cell_type": "code",
      "metadata": {
        "colab": {
          "base_uri": "https://localhost:8080/",
          "height": 35
        },
        "id": "KKMVnTGpA3fb",
        "outputId": "dde34967-04d3-413d-a6af-4f5da456d630"
      },
      "source": [
        "'hello world'.capitalize()"
      ],
      "execution_count": 37,
      "outputs": [
        {
          "output_type": "execute_result",
          "data": {
            "application/vnd.google.colaboratory.intrinsic+json": {
              "type": "string"
            },
            "text/plain": [
              "'Hello world'"
            ]
          },
          "metadata": {},
          "execution_count": 37
        }
      ]
    },
    {
      "cell_type": "code",
      "metadata": {
        "colab": {
          "base_uri": "https://localhost:8080/",
          "height": 35
        },
        "id": "2IK2WNI9D-C8",
        "outputId": "505a1060-882c-4140-bc27-00d02c5b2067"
      },
      "source": [
        "'     hello    '.strip()"
      ],
      "execution_count": 38,
      "outputs": [
        {
          "output_type": "execute_result",
          "data": {
            "application/vnd.google.colaboratory.intrinsic+json": {
              "type": "string"
            },
            "text/plain": [
              "'hello'"
            ]
          },
          "metadata": {},
          "execution_count": 38
        }
      ]
    },
    {
      "cell_type": "markdown",
      "metadata": {
        "id": "s3h4XTy42l6y"
      },
      "source": [
        "# **Exercícios**"
      ]
    },
    {
      "cell_type": "markdown",
      "metadata": {
        "id": "_Kl-2zy-8cNv"
      },
      "source": [
        "**Faça um Programa que peça dois números e imprima a soma.**"
      ]
    },
    {
      "cell_type": "code",
      "metadata": {
        "id": "CJlgEdLe3KLC",
        "colab": {
          "base_uri": "https://localhost:8080/"
        },
        "outputId": "346274aa-1202-4304-f265-bd93f9021b40"
      },
      "source": [
        "n1 = int(input('Digite um número: '))\n",
        "n2 = int(input('Digite outro número: '))\n",
        "soma = n1 + n2\n",
        "print(f'A soma de {n1} mais {n2} é {soma}!')"
      ],
      "execution_count": 39,
      "outputs": [
        {
          "output_type": "stream",
          "name": "stdout",
          "text": [
            "Digite um número: 5\n",
            "Digite outro número: 8\n",
            "A soma de 5 mais 8 é 13!\n"
          ]
        }
      ]
    },
    {
      "cell_type": "markdown",
      "metadata": {
        "id": "asSOCkv48hsr"
      },
      "source": [
        "**Faça um Programa que peça as 4 notas bimestrais e mostre a média.**"
      ]
    },
    {
      "cell_type": "code",
      "metadata": {
        "id": "q4BgyRbOR8xW",
        "colab": {
          "base_uri": "https://localhost:8080/"
        },
        "outputId": "3f37bafc-928c-4ac5-abc0-bdd90019f1d9"
      },
      "source": [
        "nota1 = float(input('Digite a primeira nota: '))\n",
        "nota2 = float(input('Digite a segunda nota: '))\n",
        "nota3 = float(input('Digite a terceira nota: '))\n",
        "nota4 = float(input('Digite a quarta nota: '))\n",
        "media = (nota1 + nota2 + nota3 + nota4) / 4\n",
        "print(f'A média das notas é {media:.2f}')"
      ],
      "execution_count": 40,
      "outputs": [
        {
          "output_type": "stream",
          "name": "stdout",
          "text": [
            "Digite a primeira nota: 5.8\n",
            "Digite a segunda nota: 9.4\n",
            "Digite a terceira nota: 7.7\n",
            "Digite a quarta nota: 10\n",
            "A média das notas é 8.22\n"
          ]
        }
      ]
    },
    {
      "cell_type": "markdown",
      "metadata": {
        "id": "ykRUV1Id8l8q"
      },
      "source": [
        "**Faça um Programa que converta metros para centímetros.**"
      ]
    },
    {
      "cell_type": "code",
      "metadata": {
        "id": "BHZPAdvt2aAq",
        "colab": {
          "base_uri": "https://localhost:8080/"
        },
        "outputId": "cadc28d2-224a-444b-c60e-2733074ed8e1"
      },
      "source": [
        "cm = float(input('Insira o valor em cm: '))\n",
        "metro = cm / 100\n",
        "print(f'O valor em metros é {metro:.2f}')"
      ],
      "execution_count": 41,
      "outputs": [
        {
          "output_type": "stream",
          "name": "stdout",
          "text": [
            "Insira o valor em cm: 50\n",
            "O valor em metros é 0.50\n"
          ]
        }
      ]
    },
    {
      "cell_type": "markdown",
      "metadata": {
        "id": "H2UfEr398p_N"
      },
      "source": [
        "**Faça um Programa que peça o raio de um círculo, calcule e mostre sua área.**"
      ]
    },
    {
      "cell_type": "code",
      "metadata": {
        "id": "Fu1UfLa92p_O",
        "colab": {
          "base_uri": "https://localhost:8080/"
        },
        "outputId": "2f32e70e-42f2-48b6-dc3c-d51e94836b37"
      },
      "source": [
        "raio = float(input('Digite o raio de um círculo: '))\n",
        "area = 3.14 * (raio**2)\n",
        "print(f'A área do círculo é {area:.2f}')"
      ],
      "execution_count": 42,
      "outputs": [
        {
          "output_type": "stream",
          "name": "stdout",
          "text": [
            "Digite o raio de um círculo: 2\n",
            "A área do círculo é 12.56\n"
          ]
        }
      ]
    },
    {
      "cell_type": "markdown",
      "metadata": {
        "id": "vO9okcSq8txf"
      },
      "source": [
        "**Faça um Programa que calcule a área de um quadrado, em seguida mostre o dobro desta área para o usuário.**"
      ]
    },
    {
      "cell_type": "code",
      "metadata": {
        "id": "IrRGvkdl2sQ7",
        "colab": {
          "base_uri": "https://localhost:8080/"
        },
        "outputId": "8299a6b8-7169-4203-e992-2da5b6e6a531"
      },
      "source": [
        "lado1 = float(input('Digite o valor do primeiro lado: '))\n",
        "lado2 = float(input('Digite o valor do segundo lado: '))\n",
        "area = lado1 * lado2\n",
        "area2 = area * 2\n",
        "print(f'A área do quadrado é {area} e seu dobro é {area2}')"
      ],
      "execution_count": 43,
      "outputs": [
        {
          "output_type": "stream",
          "name": "stdout",
          "text": [
            "Digite o valor do primeiro lado: 2.4\n",
            "Digite o valor do segundo lado: 1.8\n",
            "A área do quadrado é 4.32 e seu dobro é 8.64\n"
          ]
        }
      ]
    },
    {
      "cell_type": "markdown",
      "metadata": {
        "id": "eQjAPxZV9Y_U"
      },
      "source": [
        "**Faça um Programa que pergunte quanto você ganha por hora e o número de horas trabalhadas no mês. Calcule e mostre o total do seu salário no referido mês.**"
      ]
    },
    {
      "cell_type": "code",
      "metadata": {
        "id": "Y0rYrzfh9Xw5",
        "colab": {
          "base_uri": "https://localhost:8080/"
        },
        "outputId": "35b493f5-8530-43dd-c5e3-d8a69349d7b5"
      },
      "source": [
        "valor = float(input('Quanto vc ganha por hora: '))\n",
        "hora = float(input('Digite o número de horas trabalhadas no mês: '))\n",
        "salario = valor * hora\n",
        "print(f'O total do seu salário no referido mês é de R${salario:.2f}')"
      ],
      "execution_count": 44,
      "outputs": [
        {
          "output_type": "stream",
          "name": "stdout",
          "text": [
            "Quanto vc ganha por hora: 15.5\n",
            "Digite o número de horas trabalhadas no mês: 120\n",
            "O total do seu salário no referido mês é de R$1860.00\n"
          ]
        }
      ]
    },
    {
      "cell_type": "markdown",
      "metadata": {
        "id": "rCvWU_do9eb7"
      },
      "source": [
        "**Faça um Programa que peça a temperatura em graus Fahrenheit, transforme e mostre a temperatura em graus Celsius.\n",
        "C = 5 * ((F-32) / 9).**"
      ]
    },
    {
      "cell_type": "code",
      "metadata": {
        "id": "6-F8JLJl9nWy",
        "colab": {
          "base_uri": "https://localhost:8080/"
        },
        "outputId": "0d97d0c8-75f7-4afe-884c-0f31fcdce158"
      },
      "source": [
        "fah = float(input('Digite a temperatura em Fahrenheit: '))\n",
        "celsius = 5 * ((fah - 32) / 9)\n",
        "print(f'A temperatura em Celsius é {celsius:.2f}°C.')"
      ],
      "execution_count": 45,
      "outputs": [
        {
          "output_type": "stream",
          "name": "stdout",
          "text": [
            "Digite a temperatura em Fahrenheit: 95\n",
            "A temperatura em Celsius é 35.00°C.\n"
          ]
        }
      ]
    },
    {
      "cell_type": "markdown",
      "metadata": {
        "id": "wuNSOcEU9q82"
      },
      "source": [
        "**Faça um Programa que peça a temperatura em graus Celsius, transforme e mostre em graus Fahrenheit.**"
      ]
    },
    {
      "cell_type": "code",
      "metadata": {
        "id": "jFV9yA3W9vPA",
        "colab": {
          "base_uri": "https://localhost:8080/"
        },
        "outputId": "617809bd-d131-43d5-c59a-6db8713dfc52"
      },
      "source": [
        "celsius = float(input('Digite a temperatura em graus Celsius: '))\n",
        "fah = (celsius * (9/5)) + 32\n",
        "print(f'A temperatura em Fahrenheit é {fah:.2f}°F')"
      ],
      "execution_count": 46,
      "outputs": [
        {
          "output_type": "stream",
          "name": "stdout",
          "text": [
            "Digite a temperatura em graus Celsius: 45\n",
            "A temperatura em Fahrenheit é 113.00°F\n"
          ]
        }
      ]
    },
    {
      "cell_type": "markdown",
      "metadata": {
        "id": "rHenay-u9wSe"
      },
      "source": [
        "**Faça um Programa que peça 2 números inteiros e um número real. Calcule e mostre:**\n",
        "\n",
        "1. Produto do dobro do primeiro com metade do segundo.\n",
        "2. Soma do triplo do primeiro com o terceiro.\n",
        "3. Terceiro elevado ao cubo.\n"
      ]
    },
    {
      "cell_type": "code",
      "metadata": {
        "id": "YnLaFKWE94sM",
        "colab": {
          "base_uri": "https://localhost:8080/"
        },
        "outputId": "71320d64-4250-4547-925a-dc30bcdd2402"
      },
      "source": [
        "n1 = int(input('Digite o primeiro número inteiro: '))\n",
        "n2 = int(input('Digite o segundo número inteiro: '))\n",
        "n3 = float(input('Digite um número real: '))\n",
        "cal1 = (n1 * 2) * (n2 / 2)\n",
        "cal2 = (n1 * 3) + n3\n",
        "cal3 = n3 ** 3\n",
        "print(f'O produto do dobro do primeiro número com a metade do segundo número é {cal1:.2f}.')\n",
        "print(f'A soma do triplo do primeiro número com o terceiro número é {cal2:.2f}.')\n",
        "print(f'O terceiro número elevado ao cubo é {cal3:.2f}.')"
      ],
      "execution_count": 47,
      "outputs": [
        {
          "output_type": "stream",
          "name": "stdout",
          "text": [
            "Digite o primeiro número inteiro: 5\n",
            "Digite o segundo número inteiro: 7\n",
            "Digite um número real: 2.4\n",
            "O produto do dobro do primeiro número com a metade do segundo número é 35.00.\n",
            "A soma do triplo do primeiro número com o terceiro número é 17.40.\n",
            "O terceiro número elevado ao cubo é 13.82.\n"
          ]
        }
      ]
    },
    {
      "cell_type": "markdown",
      "metadata": {
        "id": "Pp-vVCNC-M9n"
      },
      "source": [
        "**Tendo como dados de entrada a altura de uma pessoa, construa um algoritmo que calcule seu peso ideal, usando a seguinte fórmula: (72.7*altura) - 58**"
      ]
    },
    {
      "cell_type": "code",
      "metadata": {
        "id": "elpHlKHR-TEW",
        "colab": {
          "base_uri": "https://localhost:8080/"
        },
        "outputId": "5c501786-488e-4169-eb81-03ee5bf60729"
      },
      "source": [
        "altura = float(input('Digite sua altura: '))\n",
        "peso = (72.7 * altura) - 58\n",
        "print(f'Seu peso ideal seria {peso:.2f}.')"
      ],
      "execution_count": 48,
      "outputs": [
        {
          "output_type": "stream",
          "name": "stdout",
          "text": [
            "Digite sua altura: 1.75\n",
            "Seu peso ideal seria 69.23.\n"
          ]
        }
      ]
    },
    {
      "cell_type": "markdown",
      "metadata": {
        "id": "9DDiGIya-Tu3"
      },
      "source": [
        "**Tendo como dado de entrada a altura (h) de uma pessoa, construa um algoritmo que calcule seu peso ideal, utilizando as seguintes fórmulas:**\n",
        "1. Para homens: (72.7*h) - 58\n",
        "2. Para mulheres: (62.1*h) - 44.7"
      ]
    },
    {
      "cell_type": "code",
      "metadata": {
        "id": "Yj8Aur0f-fot",
        "colab": {
          "base_uri": "https://localhost:8080/"
        },
        "outputId": "bfb0905b-547e-4936-c379-1959fb80f00e"
      },
      "source": [
        "h = float(input('Digite sua altura: '))\n",
        "genero = str(input('Digite H para homem ou M para mulher: '))\n",
        "if genero in 'Hh':\n",
        "  peso = (72.7 * h) - 58\n",
        "  print(f'Seu peso ideal seria {peso:.2f}.')\n",
        "else:\n",
        "  peso = (62.1 * h) - 44.7\n",
        "  print(f'Seu peso ideal seria {peso:.2f}')"
      ],
      "execution_count": 49,
      "outputs": [
        {
          "output_type": "stream",
          "name": "stdout",
          "text": [
            "Digite sua altura: 1.8\n",
            "Digite H para homem ou M para mulher: h\n",
            "Seu peso ideal seria 72.86.\n"
          ]
        }
      ]
    },
    {
      "cell_type": "markdown",
      "metadata": {
        "id": "luMJHwGe-i8c"
      },
      "source": [
        "**João Papo-de-Pescador, homem de bem, comprou um microcomputador para controlar o rendimento diário de seu trabalho. Toda vez que ele traz um peso de peixes maior que o estabelecido pelo regulamento de pesca do estado de São Paulo (50 quilos) deve pagar uma multa de R$ 4,00 por quilo excedente. João precisa que você faça um programa que leia a variável peso (peso de peixes) e calcule o excesso. Gravar na variável excesso a quantidade de quilos além do limite e na variável multa o valor da multa que João deverá pagar. Imprima os dados do programa com as mensagens adequadas.**"
      ]
    },
    {
      "cell_type": "code",
      "metadata": {
        "id": "BOnYi7Ki-tlF",
        "colab": {
          "base_uri": "https://localhost:8080/"
        },
        "outputId": "7ecf64df-3530-4ff9-b420-0f1c73443772"
      },
      "source": [
        "peso_peixe = float(input('Digite o peso do peixe: '))\n",
        "if peso_peixe > 50:\n",
        "  excesso = peso_peixe - 50\n",
        "  multa = excesso * 4\n",
        "  print(f'A quantidade de quilos excedentes foi {excesso:.2f}kg, portanto você pagará uma multa de R${multa:.2f}!')\n",
        "else:\n",
        "  print('Peso de peixes dentro do limite permitido!')"
      ],
      "execution_count": 50,
      "outputs": [
        {
          "output_type": "stream",
          "name": "stdout",
          "text": [
            "Digite o peso do peixe: 25\n",
            "Peso de peixes dentro do limite permitido!\n"
          ]
        }
      ]
    },
    {
      "cell_type": "markdown",
      "metadata": {
        "id": "GOv4mU5T-uNy"
      },
      "source": [
        "**Faça um Programa que pergunte quanto você ganha por hora e o número de horas trabalhadas no mês. Calcule e mostre o total do seu salário no referido mês, sabendo-se que são descontados 11% para o Imposto de Renda, 8% para o INSS e 5% para o sindicato, faça um programa que nos dê:**\n",
        "\n",
        "1. salário bruto.\n",
        "2. quanto pagou ao INSS.\n",
        "3. quanto pagou ao sindicato.\n",
        "4. o salário líquido.\n",
        "5. calcule os descontos e o salário líquido, conforme a tabela abaixo:\n",
        "\n",
        "```\n",
        "+ Salário Bruto : R$\n",
        "- IR (11%) : R$\n",
        "- INSS (8%) : R$\n",
        "- Sindicato ( 5%) : R$\n",
        "= Salário Liquido : R$\n",
        "```\n",
        "*Obs.: Salário Bruto - Descontos = Salário Líquido.*\n"
      ]
    },
    {
      "cell_type": "code",
      "metadata": {
        "id": "BpJrcHmA_WeV",
        "colab": {
          "base_uri": "https://localhost:8080/"
        },
        "outputId": "2a6d81b7-b825-45f1-ba42-6274e5d3980c"
      },
      "source": [
        "valor_hora = float(input('Digite o valor que você ganha por hora: '))\n",
        "hora_trab = float(input('Digite o o número de horas trabalhadas: '))\n",
        "bruto = valor_hora * hora_trab\n",
        "ir = 0.11 * bruto\n",
        "inss = 0.08 * bruto\n",
        "sindicato = 0.05 * bruto\n",
        "liquido = bruto - (ir + inss + sindicato)\n",
        "print(f'O salário bruto é de R${bruto}.')\n",
        "print(f'O valor pago ao INSS é de R${inss} e ao IR é de R${ir}.')\n",
        "print(f'O valor pago ao sindicato é de R${sindicato:.2f}.')\n",
        "print(f'O valor do salário líquido é de R${liquido}.')"
      ],
      "execution_count": 51,
      "outputs": [
        {
          "output_type": "stream",
          "name": "stdout",
          "text": [
            "Digite o valor que você ganha por hora: 22\n",
            "Digite o o número de horas trabalhadas: 130\n",
            "O salário bruto é de R$2860.0.\n",
            "O valor pago ao INSS é de R$228.8 e ao IR é de R$314.6.\n",
            "O valor pago ao sindicato é de R$143.00.\n",
            "O valor do salário líquido é de R$2173.6.\n"
          ]
        }
      ]
    },
    {
      "cell_type": "markdown",
      "metadata": {
        "id": "3wsz_2Tt_XIN"
      },
      "source": [
        "**Faça um programa para uma loja de tintas. O programa deverá pedir o tamanho em metros quadrados da área a ser pintada. Considere que a cobertura da tinta é de 1 litro para cada 3 metros quadrados e que a tinta é vendida em latas de 18 litros, que custam R$ 80,00. Informe ao usuário a quantidades de latas de tinta a serem compradas e o preço total.**"
      ]
    },
    {
      "cell_type": "code",
      "metadata": {
        "id": "sWHBxGcc_e9t",
        "colab": {
          "base_uri": "https://localhost:8080/"
        },
        "outputId": "e5ca2ccb-8c67-4bf1-c302-148bff572dfa"
      },
      "source": [
        "area_tintura = float(input('Digite a área a ser pintada em m²: '))\n",
        "litro = area_tintura / 3\n",
        "lata = litro / 18\n",
        "preco = lata * 80\n",
        "print(f'A quantidade de latas necessárias será de {lata:.2f} e custará R${preco:.2f}')"
      ],
      "execution_count": 52,
      "outputs": [
        {
          "output_type": "stream",
          "name": "stdout",
          "text": [
            "Digite a área a ser pintada em m²: 54\n",
            "A quantidade de latas necessárias será de 1.00 e custará R$80.00\n"
          ]
        }
      ]
    },
    {
      "cell_type": "markdown",
      "metadata": {
        "id": "H32vYQcGAQV9"
      },
      "source": [
        "Faça um programa que peça o tamanho de um arquivo para download (em MB) e a velocidade de um link de Internet (em Mbps), calcule e informe o tempo aproximado de download do arquivo usando este link (em minutos)."
      ]
    },
    {
      "cell_type": "code",
      "metadata": {
        "id": "Ajfkz7TLAUIF",
        "colab": {
          "base_uri": "https://localhost:8080/"
        },
        "outputId": "ae962592-b6fc-4236-b448-504c89dcdc90"
      },
      "source": [
        "arquivo = float(input('Digite o tamanho do arquivo em MB: '))\n",
        "velocidade = float(input('Digite a velocidade de um link de Internet em Mbps: '))\n",
        "velocidade_transf = velocidade / 8\n",
        "conclusao = (arquivo / velocidade_transf)/60\n",
        "print(f'O download de um arquivo em {arquivo}MB será feito em {conclusao:.2f} minutos.')"
      ],
      "execution_count": 53,
      "outputs": [
        {
          "output_type": "stream",
          "name": "stdout",
          "text": [
            "Digite o tamanho do arquivo em MB: 120\n",
            "Digite a velocidade de um link de Internet em Mbps: 200\n",
            "O download de um arquivo em 120.0MB será feito em 0.08 minutos.\n"
          ]
        }
      ]
    }
  ]
}